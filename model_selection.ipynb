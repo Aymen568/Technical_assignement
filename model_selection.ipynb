{
 "cells": [
  {
   "cell_type": "code",
   "execution_count": 5,
   "metadata": {},
   "outputs": [
    {
     "name": "stdout",
     "output_type": "stream",
     "text": [
      "Collecting import-ipynb\n",
      "  Downloading import_ipynb-0.2-py3-none-any.whl (4.0 kB)\n",
      "Requirement already satisfied: nbformat in c:\\users\\aymen\\appdata\\local\\programs\\python\\python310\\lib\\site-packages (from import-ipynb) (5.10.4)\n",
      "Requirement already satisfied: IPython in c:\\users\\aymen\\appdata\\local\\programs\\python\\python310\\lib\\site-packages (from import-ipynb) (8.12.3)\n",
      "Requirement already satisfied: traitlets>=5 in c:\\users\\aymen\\appdata\\roaming\\python\\python310\\site-packages (from IPython->import-ipynb) (5.14.3)\n",
      "Requirement already satisfied: decorator in c:\\users\\aymen\\appdata\\roaming\\python\\python310\\site-packages (from IPython->import-ipynb) (5.1.1)\n",
      "Requirement already satisfied: matplotlib-inline in c:\\users\\aymen\\appdata\\roaming\\python\\python310\\site-packages (from IPython->import-ipynb) (0.1.7)\n",
      "Requirement already satisfied: pygments>=2.4.0 in c:\\users\\aymen\\appdata\\roaming\\python\\python310\\site-packages (from IPython->import-ipynb) (2.18.0)\n",
      "Requirement already satisfied: pickleshare in c:\\users\\aymen\\appdata\\local\\programs\\python\\python310\\lib\\site-packages (from IPython->import-ipynb) (0.7.5)\n",
      "Requirement already satisfied: prompt-toolkit!=3.0.37,<3.1.0,>=3.0.30 in c:\\users\\aymen\\appdata\\roaming\\python\\python310\\site-packages (from IPython->import-ipynb) (3.0.47)\n",
      "Requirement already satisfied: colorama in c:\\users\\aymen\\appdata\\roaming\\python\\python310\\site-packages (from IPython->import-ipynb) (0.4.6)\n",
      "Requirement already satisfied: stack-data in c:\\users\\aymen\\appdata\\roaming\\python\\python310\\site-packages (from IPython->import-ipynb) (0.6.3)\n",
      "Requirement already satisfied: backcall in c:\\users\\aymen\\appdata\\local\\programs\\python\\python310\\lib\\site-packages (from IPython->import-ipynb) (0.2.0)\n",
      "Requirement already satisfied: jedi>=0.16 in c:\\users\\aymen\\appdata\\roaming\\python\\python310\\site-packages (from IPython->import-ipynb) (0.19.1)\n",
      "Requirement already satisfied: parso<0.9.0,>=0.8.3 in c:\\users\\aymen\\appdata\\roaming\\python\\python310\\site-packages (from jedi>=0.16->IPython->import-ipynb) (0.8.4)\n",
      "Requirement already satisfied: wcwidth in c:\\users\\aymen\\appdata\\roaming\\python\\python310\\site-packages (from prompt-toolkit!=3.0.37,<3.1.0,>=3.0.30->IPython->import-ipynb) (0.2.13)\n",
      "Requirement already satisfied: fastjsonschema>=2.15 in c:\\users\\aymen\\appdata\\local\\programs\\python\\python310\\lib\\site-packages (from nbformat->import-ipynb) (2.20.0)\n",
      "Requirement already satisfied: jsonschema>=2.6 in c:\\users\\aymen\\appdata\\local\\programs\\python\\python310\\lib\\site-packages (from nbformat->import-ipynb) (4.23.0)\n",
      "Requirement already satisfied: jupyter-core!=5.0.*,>=4.12 in c:\\users\\aymen\\appdata\\roaming\\python\\python310\\site-packages (from nbformat->import-ipynb) (5.7.2)\n",
      "Requirement already satisfied: referencing>=0.28.4 in c:\\users\\aymen\\appdata\\local\\programs\\python\\python310\\lib\\site-packages (from jsonschema>=2.6->nbformat->import-ipynb) (0.35.1)\n",
      "Requirement already satisfied: attrs>=22.2.0 in c:\\users\\aymen\\appdata\\local\\programs\\python\\python310\\lib\\site-packages (from jsonschema>=2.6->nbformat->import-ipynb) (23.2.0)\n",
      "Requirement already satisfied: rpds-py>=0.7.1 in c:\\users\\aymen\\appdata\\local\\programs\\python\\python310\\lib\\site-packages (from jsonschema>=2.6->nbformat->import-ipynb) (0.19.0)\n",
      "Requirement already satisfied: jsonschema-specifications>=2023.03.6 in c:\\users\\aymen\\appdata\\local\\programs\\python\\python310\\lib\\site-packages (from jsonschema>=2.6->nbformat->import-ipynb) (2023.12.1)\n",
      "Requirement already satisfied: platformdirs>=2.5 in c:\\users\\aymen\\appdata\\roaming\\python\\python310\\site-packages (from jupyter-core!=5.0.*,>=4.12->nbformat->import-ipynb) (4.2.2)\n",
      "Requirement already satisfied: pywin32>=300 in c:\\users\\aymen\\appdata\\roaming\\python\\python310\\site-packages (from jupyter-core!=5.0.*,>=4.12->nbformat->import-ipynb) (306)\n",
      "Requirement already satisfied: executing>=1.2.0 in c:\\users\\aymen\\appdata\\roaming\\python\\python310\\site-packages (from stack-data->IPython->import-ipynb) (2.0.1)\n",
      "Requirement already satisfied: asttokens>=2.1.0 in c:\\users\\aymen\\appdata\\roaming\\python\\python310\\site-packages (from stack-data->IPython->import-ipynb) (2.4.1)\n",
      "Requirement already satisfied: pure-eval in c:\\users\\aymen\\appdata\\roaming\\python\\python310\\site-packages (from stack-data->IPython->import-ipynb) (0.2.2)\n",
      "Requirement already satisfied: six>=1.12.0 in c:\\users\\aymen\\appdata\\local\\programs\\python\\python310\\lib\\site-packages (from asttokens>=2.1.0->stack-data->IPython->import-ipynb) (1.16.0)\n",
      "Installing collected packages: import-ipynb\n",
      "Successfully installed import-ipynb-0.2\n"
     ]
    },
    {
     "name": "stderr",
     "output_type": "stream",
     "text": [
      "WARNING: You are using pip version 21.2.3; however, version 24.3.1 is available.\n",
      "You should consider upgrading via the 'C:\\Users\\aymen\\AppData\\Local\\Programs\\Python\\Python310\\python.exe -m pip install --upgrade pip' command.\n"
     ]
    }
   ],
   "source": [
    "! pip install import-ipynb"
   ]
  },
  {
   "cell_type": "code",
   "execution_count": null,
   "metadata": {},
   "outputs": [],
   "source": [
    "import numpy as np\n",
    "import pandas as pd\n",
    "import seaborn as sns\n",
    "import import_ipynb\n",
    "from data_preparation import  Preprocess\n",
    "import statsmodels.api as sm\n",
    "from statsmodels.tsa.seasonal import seasonal_decompose\n",
    "from statsmodels.tsa.stattools import adfuller\n",
    "from statsmodels.graphics.tsaplots import plot_acf,plot_pacf\n",
    "from scipy.stats import boxcox\n",
    "import matplotlib.pyplot as plt\n",
    "from pandas.plotting import autocorrelation_plot\n",
    "from math import sqrt\n",
    "import warnings\n",
    "warnings.filterwarnings('ignore')\n",
    "from statsmodels.tsa.arima_model import ARIMA\n",
    "from sklearn.metrics import mean_squared_error\n"
   ]
  },
  {
   "cell_type": "code",
   "execution_count": 15,
   "metadata": {},
   "outputs": [
    {
     "ename": "NameError",
     "evalue": "name 'Preprocess' is not defined",
     "output_type": "error",
     "traceback": [
      "\u001b[1;31m---------------------------------------------------------------------------\u001b[0m",
      "\u001b[1;31mNameError\u001b[0m                                 Traceback (most recent call last)",
      "Cell \u001b[1;32mIn[15], line 2\u001b[0m\n\u001b[0;32m      1\u001b[0m path \u001b[38;5;241m=\u001b[39m \u001b[38;5;124m\"\u001b[39m\u001b[38;5;124mdata/IPG2211A2N.csv\u001b[39m\u001b[38;5;124m\"\u001b[39m\n\u001b[1;32m----> 2\u001b[0m f1 \u001b[38;5;241m=\u001b[39m \u001b[43mPreprocess\u001b[49m(path)\n\u001b[0;32m      3\u001b[0m df \u001b[38;5;241m=\u001b[39m f1\u001b[38;5;241m.\u001b[39mstationarize_data(f1\u001b[38;5;241m.\u001b[39mread_data())\n",
      "\u001b[1;31mNameError\u001b[0m: name 'Preprocess' is not defined"
     ]
    }
   ],
   "source": [
    "path = \"data/IPG2211A2N.csv\"\n",
    "f1 = Preprocess(path)\n",
    "df = f1.stationarize_data(f1.read_data())\n",
    "\n"
   ]
  },
  {
   "cell_type": "code",
   "execution_count": null,
   "metadata": {},
   "outputs": [],
   "source": []
  },
  {
   "cell_type": "code",
   "execution_count": null,
   "metadata": {},
   "outputs": [],
   "source": []
  }
 ],
 "metadata": {
  "kernelspec": {
   "display_name": "Python 3",
   "language": "python",
   "name": "python3"
  },
  "language_info": {
   "codemirror_mode": {
    "name": "ipython",
    "version": 3
   },
   "file_extension": ".py",
   "mimetype": "text/x-python",
   "name": "python",
   "nbconvert_exporter": "python",
   "pygments_lexer": "ipython3",
   "version": "3.10.0"
  }
 },
 "nbformat": 4,
 "nbformat_minor": 2
}
